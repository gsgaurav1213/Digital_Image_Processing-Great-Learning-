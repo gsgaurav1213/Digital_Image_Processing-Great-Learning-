{
 "cells": [
  {
   "cell_type": "markdown",
   "id": "f21a8796",
   "metadata": {},
   "source": [
    "# Project"
   ]
  },
  {
   "cell_type": "markdown",
   "id": "b66af0a4",
   "metadata": {},
   "source": [
    "# Image processing using python"
   ]
  },
  {
   "cell_type": "markdown",
   "id": "df8fb57e",
   "metadata": {},
   "source": [
    "# Name :- Gaurav Suryavanshi\n",
    "# Street View House Numbers (.h5 File)\n",
    "SVHN is a real-word image dataset for developing machine learning and object recongnition algorithms with inimal requirement on data formating but comes from a significantly harder, unsolve, real world problem (recognizing digits =s and numbers in natural scence images) SVHN is obtained from house umbers in Google Street View images."
   ]
  },
  {
   "cell_type": "markdown",
   "id": "376452fd",
   "metadata": {},
   "source": [
    "# Q.1 please design a nn with should be able to predict"
   ]
  },
  {
   "cell_type": "markdown",
   "id": "fe225862",
   "metadata": {},
   "source": [
    "Object :- The objective of the project is to learn how to implement a single image classification pipeline based on a deep neural network the goals of this project are as \n",
    "- Understand the basic image Classification pipeline and the data-driven approach\n",
    "- Data fetching and understand the train/test split data\n",
    "- implemet and aply a deep neural network clasifier(feedforward nn, RELU, activation )\n",
    "- Understand and implement able to backpropagation\n",
    "- implement batch normalization for training the neural network\n",
    "- print the classification accuracy of metrics"
   ]
  },
  {
   "cell_type": "code",
   "execution_count": 32,
   "id": "71b25093",
   "metadata": {},
   "outputs": [],
   "source": [
    "# import libraries\n",
    "import h5py  # latest version of python\n",
    "import pandas as pd\n",
    "import numpy as np\n",
    "import matplotlib.pyplot as plt\n",
    "import seaborn as sns"
   ]
  },
  {
   "cell_type": "code",
   "execution_count": 33,
   "id": "2b59e3a8",
   "metadata": {},
   "outputs": [],
   "source": [
    "from sklearn.model_selection import train_test_split\n",
    "from sklearn.preprocessing import MinMaxScaler\n",
    "\n",
    "import tensorflow as tf\n",
    "from tensorflow.keras.models import Sequential\n",
    "from tensorflow.keras.layers import Dense, Dropout, Activation, BatchNormalization\n",
    "from tensorflow.keras.utils import to_categorical"
   ]
  },
  {
   "cell_type": "markdown",
   "id": "32e21bf8",
   "metadata": {},
   "source": [
    "# 1. Load the dataset\n",
    "- Let us now load the dataset that is available as a .h5 file.\n",
    "- Split the data into train and the test dataset"
   ]
  },
  {
   "cell_type": "code",
   "execution_count": 9,
   "id": "52f8ba64",
   "metadata": {},
   "outputs": [],
   "source": [
    "# load the files\n",
    "import h5py\n",
    "\n",
    "# Open the HDF5 file in read-only mode\n",
    "h5f = h5py.File('SVHN_single_grey1.h5', 'r')\n"
   ]
  },
  {
   "cell_type": "code",
   "execution_count": 10,
   "id": "2c85149e",
   "metadata": {},
   "outputs": [],
   "source": [
    "# load Train and test data\n",
    "X_train= h5f['X_train'][:]\n",
    "y_train= h5f['y_train'][:]\n",
    "X_test = h5f['X_test'][:]\n",
    "y_test= h5f ['y_test'][:]"
   ]
  },
  {
   "cell_type": "code",
   "execution_count": 11,
   "id": "9d2f0c93",
   "metadata": {},
   "outputs": [],
   "source": [
    "# close\n",
    "h5f.close()"
   ]
  },
  {
   "cell_type": "code",
   "execution_count": 12,
   "id": "b66db9ca",
   "metadata": {},
   "outputs": [
    {
     "data": {
      "text/plain": [
       "(42000, 32, 32)"
      ]
     },
     "execution_count": 12,
     "metadata": {},
     "output_type": "execute_result"
    }
   ],
   "source": [
    "X_train.shape"
   ]
  },
  {
   "cell_type": "code",
   "execution_count": 13,
   "id": "bd2182df",
   "metadata": {},
   "outputs": [
    {
     "data": {
      "text/plain": [
       "(18000, 32, 32)"
      ]
     },
     "execution_count": 13,
     "metadata": {},
     "output_type": "execute_result"
    }
   ],
   "source": [
    "X_test.shape"
   ]
  },
  {
   "cell_type": "code",
   "execution_count": 14,
   "id": "78853df9",
   "metadata": {},
   "outputs": [
    {
     "data": {
      "text/plain": [
       "(42000,)"
      ]
     },
     "execution_count": 14,
     "metadata": {},
     "output_type": "execute_result"
    }
   ],
   "source": [
    "y_train.shape\n"
   ]
  },
  {
   "cell_type": "code",
   "execution_count": 15,
   "id": "3d848f0f",
   "metadata": {},
   "outputs": [
    {
     "data": {
      "text/plain": [
       "(18000,)"
      ]
     },
     "execution_count": 15,
     "metadata": {},
     "output_type": "execute_result"
    }
   ],
   "source": [
    "y_test.shape"
   ]
  },
  {
   "cell_type": "code",
   "execution_count": 16,
   "id": "e5abd6df",
   "metadata": {},
   "outputs": [
    {
     "data": {
      "text/plain": [
       "array([[ 33.0704,  30.2601,  26.852 , ...,  71.4471,  58.2204,  42.9939],\n",
       "       [ 25.2283,  25.5533,  29.9765, ..., 113.0209, 103.3639,  84.2949],\n",
       "       [ 26.2775,  22.6137,  40.4763, ..., 113.3028, 121.775 , 115.4228],\n",
       "       ...,\n",
       "       [ 28.5502,  36.212 ,  45.0801, ...,  24.1359,  25.0927,  26.0603],\n",
       "       [ 38.4352,  26.4733,  23.2717, ...,  28.1094,  29.4683,  30.0661],\n",
       "       [ 50.2984,  26.0773,  24.0389, ...,  49.6682,  50.853 ,  53.0377]],\n",
       "      dtype=float32)"
      ]
     },
     "execution_count": 16,
     "metadata": {},
     "output_type": "execute_result"
    }
   ],
   "source": [
    "X_train[0]"
   ]
  },
  {
   "cell_type": "code",
   "execution_count": 17,
   "id": "975749c9",
   "metadata": {},
   "outputs": [
    {
     "data": {
      "text/plain": [
       "array([2, 6], dtype=uint8)"
      ]
     },
     "execution_count": 17,
     "metadata": {},
     "output_type": "execute_result"
    }
   ],
   "source": [
    "y_train[0:2]"
   ]
  },
  {
   "cell_type": "code",
   "execution_count": 31,
   "id": "57911caf",
   "metadata": {},
   "outputs": [
    {
     "data": {
      "text/plain": [
       "(1000, 18000, (1000, 1024), (18000, 32, 32))"
      ]
     },
     "execution_count": 31,
     "metadata": {},
     "output_type": "execute_result"
    }
   ],
   "source": [
    "len(X_train), len(X_test),X_train.shape, X_test.shape"
   ]
  },
  {
   "cell_type": "markdown",
   "id": "4d239426",
   "metadata": {},
   "source": [
    "- There are 42,000 images in the training data and 18,000 images in the testing data."
   ]
  },
  {
   "cell_type": "markdown",
   "id": "af20ec7f",
   "metadata": {},
   "source": [
    "# 2. Visualizing images\n",
    "- use X_train to visualize the first 10 images\n",
    "- use y_train to print the first 10 labels"
   ]
  },
  {
   "cell_type": "code",
   "execution_count": 18,
   "id": "1042a2a5",
   "metadata": {},
   "outputs": [
    {
     "data": {
      "image/png": "[encoded data removed]",
      "text/plain": [
       "<Figure size 1000x100 with 10 Axes>"
      ]
     },
     "metadata": {},
     "output_type": "display_data"
    },
    {
     "name": "stdout",
     "output_type": "stream",
     "text": [
      "Tags attached to above images are as follow:  [2 6 7 4 4 0 3 0 7 3]\n"
     ]
    }
   ],
   "source": [
    "# visualizing the first 10 images in the dataset and their labels\n",
    "\n",
    "import matplotlib.pyplot as plt\n",
    "\n",
    "plt.figure(figsize=(10,1))\n",
    "\n",
    "for i in range(10):\n",
    "    plt.subplot(1,10,i+1)\n",
    "    plt.imshow(X_train[i])   # camp='gray' if youhave\n",
    "    plt.axis('off')\n",
    "plt.show()\n",
    "\n",
    "print(\"Tags attached to above images are as follow: \",y_train[0:10])"
   ]
  },
  {
   "cell_type": "markdown",
   "id": "f8493cdb",
   "metadata": {},
   "source": [
    "# Deep preparation"
   ]
  },
  {
   "cell_type": "code",
   "execution_count": 35,
   "id": "44227b82",
   "metadata": {},
   "outputs": [
    {
     "name": "stdout",
     "output_type": "stream",
     "text": [
      "Shape: (1024,)\n",
      "\n",
      "First image:\n",
      " [0.44610076 0.66759744 0.50337692 ... 0.07888301 0.69834515 0.0051647 ]\n"
     ]
    }
   ],
   "source": [
    "print(\"Shape:\", X_train[0].shape)\n",
    "print()\n",
    "print(\"First image:\\n\", X_train[0])"
   ]
  },
  {
   "cell_type": "code",
   "execution_count": 36,
   "id": "c304e347",
   "metadata": {},
   "outputs": [],
   "source": [
    "# Reshaping the dataset to flatten them. Remember that we are trying to reshape the 2D image data into a 1D array\n",
    "\n",
    "X_train = X_train.reshape(X_train.shape[0], 1024)\n",
    "X_test = X_test.reshape(X_test.shape[0], 1024)"
   ]
  },
  {
   "cell_type": "code",
   "execution_count": 37,
   "id": "f57260c8",
   "metadata": {},
   "outputs": [],
   "source": [
    "# Normalize inputs from 0-255 to 0-1\n",
    "\n",
    "X_train = X_train/255\n",
    "X_test = X_test/255"
   ]
  },
  {
   "cell_type": "code",
   "execution_count": 38,
   "id": "bc139052",
   "metadata": {},
   "outputs": [
    {
     "name": "stdout",
     "output_type": "stream",
     "text": [
      "Training set: (1000, 1024) (1000,)\n",
      "Test set: (18000, 1024) (18000,)\n"
     ]
    }
   ],
   "source": [
    "# New shape \n",
    "\n",
    "print('Training set:', X_train.shape, y_train.shape)\n",
    "print('Test set:', X_test.shape, y_test.shape)"
   ]
  },
  {
   "cell_type": "code",
   "execution_count": 39,
   "id": "44322ce6",
   "metadata": {},
   "outputs": [],
   "source": [
    "# one hot encode output\n",
    "y_train = to_categorical(y_train)\n",
    "y_test = to_categorical(y_test)"
   ]
  },
  {
   "cell_type": "code",
   "execution_count": 40,
   "id": "8421be28",
   "metadata": {},
   "outputs": [
    {
     "name": "stdout",
     "output_type": "stream",
     "text": [
      "(1000, 1024)\n",
      "(1000, 10)\n"
     ]
    }
   ],
   "source": [
    "print(X_train.shape)\n",
    "print(y_train.shape)"
   ]
  },
  {
   "cell_type": "code",
   "execution_count": 41,
   "id": "2d924920",
   "metadata": {},
   "outputs": [],
   "source": [
    "#Importing losses and optimizers modules\n",
    "from tensorflow.keras import losses\n",
    "from tensorflow.keras import optimizers\n",
    "\n",
    "#Define the function\n",
    "def nn_model_1():\n",
    "    model = tf.keras.Sequential([\n",
    "    tf.keras.layers.Dense(64, activation='relu', input_shape=(1024, )),\n",
    "    tf.keras.layers.Dense(32, activation='relu'),\n",
    "    tf.keras.layers.Dense(10, activation = 'softmax')\n",
    "    ]) \n",
    "    \n",
    "    #declare adam optimizer with learning rate of 0.001 \n",
    "    adam = optimizers.Adam(learning_rate=0.001)\n",
    "    \n",
    "    #compile the model\n",
    "    model.compile(optimizer='adam', loss='categorical_crossentropy',  metrics = ['accuracy'])\n",
    "    return model\n"
   ]
  },
  {
   "cell_type": "code",
   "execution_count": null,
   "id": "454c8cfd",
   "metadata": {},
   "outputs": [],
   "source": [
    "# encode you target y train and y test\n",
    "# Neural network\n",
    "1st layer = 32 x 32, hidden =400, relu\n",
    "    dropout\n",
    "    Batch_noarmalization\n",
    "2nd layer = 400 ,relu\n",
    "    dropout \n",
    "    Batch_noarmalization\n",
    "3rd layer = 200 , relu\n",
    "    dropout\n",
    "    Batch_noarmalization\n",
    "4th layer = 100, relu\n",
    "    dropout\n",
    "    Batch_noarmalization\n",
    "5th layer = 25 , relu\n",
    "    dropout\n",
    "    Batch_noarmalization\n",
    "6th layer = 10, softmax"
   ]
  },
  {
   "cell_type": "code",
   "execution_count": null,
   "id": "a332ce71",
   "metadata": {},
   "outputs": [],
   "source": []
  },
  {
   "cell_type": "code",
   "execution_count": null,
   "id": "8e0e542d",
   "metadata": {},
   "outputs": [],
   "source": []
  },
  {
   "cell_type": "code",
   "execution_count": 45,
   "id": "25f61aac",
   "metadata": {},
   "outputs": [
    {
     "name": "stdout",
     "output_type": "stream",
     "text": [
      "Model: \"sequential_5\"\n",
      "_________________________________________________________________\n",
      " Layer (type)                Output Shape              Param #   \n",
      "=================================================================\n",
      " dense_30 (Dense)            (None, 400)               410000    \n",
      "                                                                 \n",
      " dropout_25 (Dropout)        (None, 400)               0         \n",
      "                                                                 \n",
      " batch_normalization_25 (Bat  (None, 400)              1600      \n",
      " chNormalization)                                                \n",
      "                                                                 \n",
      " dense_31 (Dense)            (None, 400)               160400    \n",
      "                                                                 \n",
      " dropout_26 (Dropout)        (None, 400)               0         \n",
      "                                                                 \n",
      " batch_normalization_26 (Bat  (None, 400)              1600      \n",
      " chNormalization)                                                \n",
      "                                                                 \n",
      " dense_32 (Dense)            (None, 200)               80200     \n",
      "                                                                 \n",
      " dropout_27 (Dropout)        (None, 200)               0         \n",
      "                                                                 \n",
      " batch_normalization_27 (Bat  (None, 200)              800       \n",
      " chNormalization)                                                \n",
      "                                                                 \n",
      " dense_33 (Dense)            (None, 100)               20100     \n",
      "                                                                 \n",
      " dropout_28 (Dropout)        (None, 100)               0         \n",
      "                                                                 \n",
      " batch_normalization_28 (Bat  (None, 100)              400       \n",
      " chNormalization)                                                \n",
      "                                                                 \n",
      " dense_34 (Dense)            (None, 25)                2525      \n",
      "                                                                 \n",
      " dropout_29 (Dropout)        (None, 25)                0         \n",
      "                                                                 \n",
      " batch_normalization_29 (Bat  (None, 25)               100       \n",
      " chNormalization)                                                \n",
      "                                                                 \n",
      " dense_35 (Dense)            (None, 10)                260       \n",
      "                                                                 \n",
      "=================================================================\n",
      "Total params: 677,985\n",
      "Trainable params: 675,735\n",
      "Non-trainable params: 2,250\n",
      "_________________________________________________________________\n",
      "Epoch 1/10\n",
      "32/32 [==============================] - 7s 101ms/step - loss: 2.7932 - accuracy: 0.1230 - val_loss: 2.3168 - val_accuracy: 0.1012\n",
      "Epoch 2/10\n",
      "32/32 [==============================] - 3s 84ms/step - loss: 2.7762 - accuracy: 0.1020 - val_loss: 2.3403 - val_accuracy: 0.1045\n",
      "Epoch 3/10\n",
      "32/32 [==============================] - 3s 84ms/step - loss: 2.7586 - accuracy: 0.0980 - val_loss: 2.3651 - val_accuracy: 0.1032\n",
      "Epoch 4/10\n",
      "32/32 [==============================] - 3s 87ms/step - loss: 2.7672 - accuracy: 0.0990 - val_loss: 2.4090 - val_accuracy: 0.0967\n",
      "Epoch 5/10\n",
      "32/32 [==============================] - 3s 84ms/step - loss: 2.6680 - accuracy: 0.1140 - val_loss: 2.4540 - val_accuracy: 0.0925\n",
      "Epoch 6/10\n",
      "32/32 [==============================] - 3s 80ms/step - loss: 2.6928 - accuracy: 0.0970 - val_loss: 2.5125 - val_accuracy: 0.0950\n",
      "Epoch 7/10\n",
      "32/32 [==============================] - 3s 85ms/step - loss: 2.6489 - accuracy: 0.0950 - val_loss: 2.6539 - val_accuracy: 0.0994\n",
      "Epoch 8/10\n",
      "32/32 [==============================] - 3s 80ms/step - loss: 2.5911 - accuracy: 0.1060 - val_loss: 2.8961 - val_accuracy: 0.0995\n",
      "Epoch 9/10\n",
      "32/32 [==============================] - 2s 79ms/step - loss: 2.5192 - accuracy: 0.1130 - val_loss: 3.1328 - val_accuracy: 0.1009\n",
      "Epoch 10/10\n",
      "32/32 [==============================] - 3s 80ms/step - loss: 2.5482 - accuracy: 0.1160 - val_loss: 3.5221 - val_accuracy: 0.0999\n"
     ]
    }
   ],
   "source": [
    "import numpy as np\n",
    "from tensorflow.keras.models import Sequential\n",
    "from tensorflow.keras.layers import Dense, Dropout, BatchNormalization\n",
    "from tensorflow.keras import optimizers\n",
    "\n",
    "# Assuming X_train and X_test are your input features\n",
    "# Assuming y_train and y_test are your target labels\n",
    "\n",
    "# Define your target labels (y_train and y_test) using one-hot encoding\n",
    "#num_classes = 10  # Assuming 10 output classes\n",
    "#y_train_encoded = np.eye(num_classes)[y_train]\n",
    "#y_test_encoded = np.eye(num_classes)[y_test]\n",
    "\n",
    "y_train = np.array(y_train, dtype=np.int32)\n",
    "y_test = np.array(y_test, dtype=np.int32)\n",
    "\n",
    "# Define the neural network model\n",
    "model = Sequential()\n",
    "\n",
    "# 1st layer: 32 x 32 input shape, 400 units, relu activation\n",
    "model.add(Dense(400, input_shape=(32*32,), activation='relu'))\n",
    "model.add(Dropout(0.2))  # Dropout regularization\n",
    "model.add(BatchNormalization())  # Batch normalization\n",
    "\n",
    "# 2nd layer: 400 units, relu activation\n",
    "model.add(Dense(400, activation='relu'))\n",
    "model.add(Dropout(0.2))  # Dropout regularization\n",
    "model.add(BatchNormalization())  # Batch normalization\n",
    "\n",
    "# 3rd layer: 200 units, relu activation\n",
    "model.add(Dense(200, activation='relu'))\n",
    "model.add(Dropout(0.2))  # Dropout regularization\n",
    "model.add(BatchNormalization())  # Batch normalization\n",
    "\n",
    "# 4th layer: 100 units, relu activation\n",
    "model.add(Dense(100, activation='relu'))\n",
    "model.add(Dropout(0.2))  # Dropout regularization\n",
    "model.add(BatchNormalization())  # Batch normalization\n",
    "\n",
    "# 5th layer: 25 units, relu activation\n",
    "model.add(Dense(25, activation='relu'))\n",
    "model.add(Dropout(0.2))  # Dropout regularization\n",
    "model.add(BatchNormalization())  # Batch normalization\n",
    "\n",
    "# Output layer: 10 units (number of classes), softmax activation for multi-class classification\n",
    "model.add(Dense(num_classes, activation='softmax'))\n",
    "\n",
    "# Compile the model\n",
    "sgd = optimizers.SGD(learning_rate=0.01)\n",
    "model.compile(optimizer=sgd, loss='categorical_crossentropy', metrics=['accuracy'])\n",
    "\n",
    "# Print the model summary\n",
    "model.summary()\n",
    "\n",
    "# Train the model\n",
    "history = model.fit(X_train, y_train, validation_data=(X_test, y_test), epochs=10, batch_size=32)\n"
   ]
  },
  {
   "cell_type": "code",
   "execution_count": 47,
   "id": "0cec27af",
   "metadata": {},
   "outputs": [
    {
     "name": "stdout",
     "output_type": "stream",
     "text": [
      "563/563 - 2s - loss: 3.5221 - accuracy: 0.0999 - 2s/epoch - 4ms/step\n"
     ]
    }
   ],
   "source": [
    "result = model.evaluate(X_test, y_test,verbose=2)"
   ]
  },
  {
   "cell_type": "code",
   "execution_count": 48,
   "id": "6c760dab",
   "metadata": {},
   "outputs": [
    {
     "name": "stdout",
     "output_type": "stream",
     "text": [
      "test Accuracy : 0.0998888909816742\n"
     ]
    }
   ],
   "source": [
    "# print the testing accuracy\n",
    "print('test Accuracy :', result[1])"
   ]
  },
  {
   "cell_type": "code",
   "execution_count": null,
   "id": "929ef5dc",
   "metadata": {},
   "outputs": [],
   "source": []
  }
 ],
 "metadata": {
  "kernelspec": {
   "display_name": "Python 3 (ipykernel)",
   "language": "python",
   "name": "python3"
  },
  "language_info": {
   "codemirror_mode": {
    "name": "ipython",
    "version": 3
   },
   "file_extension": ".py",
   "mimetype": "text/x-python",
   "name": "python",
   "nbconvert_exporter": "python",
   "pygments_lexer": "ipython3",
   "version": "3.9.13"
  }
 },
 "nbformat": 4,
 "nbformat_minor": 5
}
