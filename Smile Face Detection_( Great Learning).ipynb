{
 "cells": [
  {
   "cell_type": "markdown",
   "id": "dadb2c39",
   "metadata": {},
   "source": [
    "# Great Learning Project"
   ]
  },
  {
   "cell_type": "markdown",
   "id": "aebad2b1",
   "metadata": {},
   "source": [
    "# Smile Detection Project\n",
    "- Detect the face\n",
    "- Detecting the smile face\n",
    "- Access the camera and detect the smilie face\n"
   ]
  },
  {
   "cell_type": "code",
   "execution_count": 34,
   "id": "cb282dbd",
   "metadata": {},
   "outputs": [],
   "source": [
    "# import the libraries\n",
    "import cv2"
   ]
  },
  {
   "cell_type": "code",
   "execution_count": 35,
   "id": "d7a477f8",
   "metadata": {},
   "outputs": [],
   "source": [
    "# haaracscade_frontalface_default.xml\n",
    "# haaracscade_smile.xml"
   ]
  },
  {
   "cell_type": "code",
   "execution_count": 36,
   "id": "5ada308d",
   "metadata": {},
   "outputs": [],
   "source": [
    "# load the face xml file\n",
    "cascade_face = cv2.CascadeClassifier(cv2.data.haarcascades + 'haarcascade_frontalface_default.xml')\n",
    "\n",
    "# load the smile cascade xml file\n",
    "# Load the cascade classifiers for face and smile detection\n",
    "cascade_smile = cv2.CascadeClassifier(cv2.data.haarcascades + 'haarcascade_smile.xml')\n"
   ]
  },
  {
   "cell_type": "code",
   "execution_count": 37,
   "id": "05b441da",
   "metadata": {},
   "outputs": [],
   "source": [
    "# open the camera and capture the face\n",
    "# Open the default camera\n",
    "cam = cv2.VideoCapture(0)"
   ]
  },
  {
   "cell_type": "code",
   "execution_count": 41,
   "id": "9d414606",
   "metadata": {},
   "outputs": [],
   "source": [
    "while True:\n",
    "    # Capture frame-by-frame\n",
    "    ret, img = cam.read()\n",
    "    if not ret:\n",
    "        break\n",
    "    \n",
    "    # Convert to grayscale\n",
    "    gray = cv2.cvtColor(img, cv2.COLOR_BGR2GRAY)\n",
    "    \n",
    "    # Detect faces\n",
    "    faces = cascade_face.detectMultiScale(gray, scaleFactor=1.3, minNeighbors=5, minSize=(30, 30))\n",
    "    \n",
    "    for (x, y, w, h) in faces:\n",
    "        cv2.rectangle(img, (x, y), (x + w, y + h), (0, 255, 0), 2)\n",
    "        roi_gray = gray[y:y+h, x:x+w]\n",
    "        roi_color = img[y:y+h, x:x+w]\n",
    "        \n",
    "        # Detect smiles within each face region\n",
    "        smiles = cascade_smile.detectMultiScale(roi_gray, scaleFactor=1.5, minNeighbors=15, minSize=(25, 25))\n",
    "        \n",
    "        for (sx, sy, sw, sh) in smiles:\n",
    "            cv2.rectangle(roi_color, (sx, sy), (sx + sw, sy + sh), (0, 255, 0), 2)\n",
    "            cv2.putText(img, \"SMILING\", (x, y - 30), cv2.FONT_HERSHEY_SIMPLEX, 2, (255, 0, 0), 3, cv2.LINE_AA)\n",
    "    \n",
    "    # Display the resulting frame\n",
    "    cv2.imshow('video', img)\n",
    "    \n",
    "    # Exit if 'Esc' key is pressed\n",
    "    if cv2.waitKey(30) & 0xFF == 27:\n",
    "        break\n",
    "\n",
    "# Release the camera and close all OpenCV windows\n",
    "cam.release()\n",
    "cv2.destroyAllWindows()\n",
    "\n",
    "    "
   ]
  },
  {
   "cell_type": "code",
   "execution_count": 33,
   "id": "bdbf7f4b",
   "metadata": {},
   "outputs": [],
   "source": [
    "\n",
    "\n",
    "\n",
    "\n"
   ]
  },
  {
   "cell_type": "code",
   "execution_count": null,
   "id": "2b7d3e9d",
   "metadata": {},
   "outputs": [],
   "source": []
  }
 ],
 "metadata": {
  "kernelspec": {
   "display_name": "Python 3 (ipykernel)",
   "language": "python",
   "name": "python3"
  },
  "language_info": {
   "codemirror_mode": {
    "name": "ipython",
    "version": 3
   },
   "file_extension": ".py",
   "mimetype": "text/x-python",
   "name": "python",
   "nbconvert_exporter": "python",
   "pygments_lexer": "ipython3",
   "version": "3.9.13"
  }
 },
 "nbformat": 4,
 "nbformat_minor": 5
}
